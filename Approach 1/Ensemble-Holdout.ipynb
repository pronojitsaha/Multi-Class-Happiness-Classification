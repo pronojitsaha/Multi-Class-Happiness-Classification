{
 "cells": [
  {
   "cell_type": "code",
   "execution_count": 2,
   "metadata": {
    "collapsed": false
   },
   "outputs": [],
   "source": [
    "import pandas as pd"
   ]
  },
  {
   "cell_type": "code",
   "execution_count": 3,
   "metadata": {
    "collapsed": true
   },
   "outputs": [],
   "source": [
    "xgb = pd.read_csv('data/xgb_hold_sub.csv', index_col = 0)\n",
    "rf = pd.read_csv('data/rf_hold_sub.csv', index_col = 0)"
   ]
  },
  {
   "cell_type": "code",
   "execution_count": 4,
   "metadata": {
    "collapsed": false
   },
   "outputs": [
    {
     "data": {
      "text/html": [
       "<div>\n",
       "<table border=\"1\" class=\"dataframe\">\n",
       "  <thead>\n",
       "    <tr style=\"text-align: right;\">\n",
       "      <th></th>\n",
       "      <th>class0</th>\n",
       "      <th>class1</th>\n",
       "      <th>class2</th>\n",
       "      <th>y_test</th>\n",
       "    </tr>\n",
       "  </thead>\n",
       "  <tbody>\n",
       "    <tr>\n",
       "      <th>count</th>\n",
       "      <td>2590.000000</td>\n",
       "      <td>2590.000000</td>\n",
       "      <td>2590.000000</td>\n",
       "      <td>2590.000000</td>\n",
       "    </tr>\n",
       "    <tr>\n",
       "      <th>mean</th>\n",
       "      <td>0.234236</td>\n",
       "      <td>0.493431</td>\n",
       "      <td>0.272333</td>\n",
       "      <td>1.178764</td>\n",
       "    </tr>\n",
       "    <tr>\n",
       "      <th>std</th>\n",
       "      <td>0.241348</td>\n",
       "      <td>0.176440</td>\n",
       "      <td>0.114360</td>\n",
       "      <td>0.630202</td>\n",
       "    </tr>\n",
       "    <tr>\n",
       "      <th>min</th>\n",
       "      <td>0.052879</td>\n",
       "      <td>0.040519</td>\n",
       "      <td>0.034433</td>\n",
       "      <td>0.000000</td>\n",
       "    </tr>\n",
       "    <tr>\n",
       "      <th>25%</th>\n",
       "      <td>0.073127</td>\n",
       "      <td>0.462397</td>\n",
       "      <td>0.190455</td>\n",
       "      <td>1.000000</td>\n",
       "    </tr>\n",
       "    <tr>\n",
       "      <th>50%</th>\n",
       "      <td>0.161526</td>\n",
       "      <td>0.522701</td>\n",
       "      <td>0.276673</td>\n",
       "      <td>1.000000</td>\n",
       "    </tr>\n",
       "    <tr>\n",
       "      <th>75%</th>\n",
       "      <td>0.237399</td>\n",
       "      <td>0.591639</td>\n",
       "      <td>0.361371</td>\n",
       "      <td>2.000000</td>\n",
       "    </tr>\n",
       "    <tr>\n",
       "      <th>max</th>\n",
       "      <td>0.922246</td>\n",
       "      <td>0.789128</td>\n",
       "      <td>0.555998</td>\n",
       "      <td>2.000000</td>\n",
       "    </tr>\n",
       "  </tbody>\n",
       "</table>\n",
       "</div>"
      ],
      "text/plain": [
       "            class0       class1       class2       y_test\n",
       "count  2590.000000  2590.000000  2590.000000  2590.000000\n",
       "mean      0.234236     0.493431     0.272333     1.178764\n",
       "std       0.241348     0.176440     0.114360     0.630202\n",
       "min       0.052879     0.040519     0.034433     0.000000\n",
       "25%       0.073127     0.462397     0.190455     1.000000\n",
       "50%       0.161526     0.522701     0.276673     1.000000\n",
       "75%       0.237399     0.591639     0.361371     2.000000\n",
       "max       0.922246     0.789128     0.555998     2.000000"
      ]
     },
     "execution_count": 4,
     "metadata": {},
     "output_type": "execute_result"
    }
   ],
   "source": [
    "xgb.describe()"
   ]
  },
  {
   "cell_type": "code",
   "execution_count": 5,
   "metadata": {
    "collapsed": false
   },
   "outputs": [
    {
     "data": {
      "text/html": [
       "<div>\n",
       "<table border=\"1\" class=\"dataframe\">\n",
       "  <thead>\n",
       "    <tr style=\"text-align: right;\">\n",
       "      <th></th>\n",
       "      <th>ID</th>\n",
       "      <th>class0</th>\n",
       "      <th>class1</th>\n",
       "      <th>class2</th>\n",
       "    </tr>\n",
       "  </thead>\n",
       "  <tbody>\n",
       "    <tr>\n",
       "      <th>count</th>\n",
       "      <td>2590.000000</td>\n",
       "      <td>2590.000000</td>\n",
       "      <td>2590.000000</td>\n",
       "      <td>2590.000000</td>\n",
       "    </tr>\n",
       "    <tr>\n",
       "      <th>mean</th>\n",
       "      <td>10008681.889961</td>\n",
       "      <td>0.167185</td>\n",
       "      <td>0.542099</td>\n",
       "      <td>0.290716</td>\n",
       "    </tr>\n",
       "    <tr>\n",
       "      <th>std</th>\n",
       "      <td>4987.332233</td>\n",
       "      <td>0.203582</td>\n",
       "      <td>0.144657</td>\n",
       "      <td>0.103992</td>\n",
       "    </tr>\n",
       "    <tr>\n",
       "      <th>min</th>\n",
       "      <td>10000123.000000</td>\n",
       "      <td>0.025653</td>\n",
       "      <td>0.089635</td>\n",
       "      <td>0.033737</td>\n",
       "    </tr>\n",
       "    <tr>\n",
       "      <th>25%</th>\n",
       "      <td>10004278.000000</td>\n",
       "      <td>0.060507</td>\n",
       "      <td>0.526051</td>\n",
       "      <td>0.218380</td>\n",
       "    </tr>\n",
       "    <tr>\n",
       "      <th>50%</th>\n",
       "      <td>10008634.000000</td>\n",
       "      <td>0.089551</td>\n",
       "      <td>0.568834</td>\n",
       "      <td>0.288567</td>\n",
       "    </tr>\n",
       "    <tr>\n",
       "      <th>75%</th>\n",
       "      <td>10012934.500000</td>\n",
       "      <td>0.152776</td>\n",
       "      <td>0.626414</td>\n",
       "      <td>0.376924</td>\n",
       "    </tr>\n",
       "    <tr>\n",
       "      <th>max</th>\n",
       "      <td>10017255.000000</td>\n",
       "      <td>0.865732</td>\n",
       "      <td>0.756470</td>\n",
       "      <td>0.530327</td>\n",
       "    </tr>\n",
       "  </tbody>\n",
       "</table>\n",
       "</div>"
      ],
      "text/plain": [
       "                    ID       class0       class1       class2\n",
       "count      2590.000000  2590.000000  2590.000000  2590.000000\n",
       "mean   10008681.889961     0.167185     0.542099     0.290716\n",
       "std        4987.332233     0.203582     0.144657     0.103992\n",
       "min    10000123.000000     0.025653     0.089635     0.033737\n",
       "25%    10004278.000000     0.060507     0.526051     0.218380\n",
       "50%    10008634.000000     0.089551     0.568834     0.288567\n",
       "75%    10012934.500000     0.152776     0.626414     0.376924\n",
       "max    10017255.000000     0.865732     0.756470     0.530327"
      ]
     },
     "execution_count": 5,
     "metadata": {},
     "output_type": "execute_result"
    }
   ],
   "source": [
    "rf.describe()"
   ]
  },
  {
   "cell_type": "code",
   "execution_count": 6,
   "metadata": {
    "collapsed": true
   },
   "outputs": [],
   "source": [
    "final_class0 = (xgb['class0']+rf['class0'])/2\n",
    "final_class1 = (xgb['class1']+rf['class1'])/2\n",
    "final_class2 = (xgb['class2']+rf['class2'])/2"
   ]
  },
  {
   "cell_type": "code",
   "execution_count": 7,
   "metadata": {
    "collapsed": true
   },
   "outputs": [],
   "source": [
    "final = pd.DataFrame({'class0':final_class0, 'class1':final_class1, 'class2':final_class2})"
   ]
  },
  {
   "cell_type": "code",
   "execution_count": 8,
   "metadata": {
    "collapsed": false
   },
   "outputs": [
    {
     "data": {
      "text/plain": [
       "class1    2222\n",
       "class0     307\n",
       "class2      61\n",
       "dtype: int64"
      ]
     },
     "execution_count": 8,
     "metadata": {},
     "output_type": "execute_result"
    }
   ],
   "source": [
    "predictions = final.idxmax(axis=1)\n",
    "predictions.value_counts()"
   ]
  },
  {
   "cell_type": "code",
   "execution_count": 9,
   "metadata": {
    "collapsed": false
   },
   "outputs": [
    {
     "data": {
      "text/plain": [
       "0.7104633204633205"
      ]
     },
     "execution_count": 9,
     "metadata": {},
     "output_type": "execute_result"
    }
   ],
   "source": [
    "score = 0\n",
    "points = []\n",
    "for (predicted, true) in zip(predictions.astype(str).map({'class2':15, 'class1': 10, 'class0': 5}), \n",
    "                             xgb['y_test'].astype(str).map({'2':15, '1': 10, '0': 5})):\n",
    "    points.append(true - predicted)\n",
    "xgb['Point'] = points\n",
    "xgb['Score'] = xgb['Point'].astype(str).map({'0':50, '5':10 ,'10':5, '-5':-5, '-10':-10}) \n",
    "xgb['Score'].sum()/float((len(xgb['y_test'])*50))"
   ]
  },
  {
   "cell_type": "code",
   "execution_count": null,
   "metadata": {
    "collapsed": true
   },
   "outputs": [],
   "source": []
  }
 ],
 "metadata": {
  "kernelspec": {
   "display_name": "Python 2",
   "language": "python",
   "name": "python2"
  },
  "language_info": {
   "codemirror_mode": {
    "name": "ipython",
    "version": 2
   },
   "file_extension": ".py",
   "mimetype": "text/x-python",
   "name": "python",
   "nbconvert_exporter": "python",
   "pygments_lexer": "ipython2",
   "version": "2.7.10"
  }
 },
 "nbformat": 4,
 "nbformat_minor": 0
}
