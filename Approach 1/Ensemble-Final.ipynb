{
 "cells": [
  {
   "cell_type": "code",
   "execution_count": 2,
   "metadata": {
    "collapsed": false
   },
   "outputs": [],
   "source": [
    "import pandas as pd"
   ]
  },
  {
   "cell_type": "code",
   "execution_count": 3,
   "metadata": {
    "collapsed": true
   },
   "outputs": [],
   "source": [
    "xgb_final = pd.read_csv('data/xgb_sub.csv', index_col = 0)\n",
    "rf_final = pd.read_csv('data/rf_sub.csv', index_col = 0)"
   ]
  },
  {
   "cell_type": "code",
   "execution_count": 4,
   "metadata": {
    "collapsed": false
   },
   "outputs": [
    {
     "data": {
      "text/html": [
       "<div>\n",
       "<table border=\"1\" class=\"dataframe\">\n",
       "  <thead>\n",
       "    <tr style=\"text-align: right;\">\n",
       "      <th></th>\n",
       "      <th>ID</th>\n",
       "      <th>class0</th>\n",
       "      <th>class1</th>\n",
       "      <th>class2</th>\n",
       "    </tr>\n",
       "  </thead>\n",
       "  <tbody>\n",
       "    <tr>\n",
       "      <th>count</th>\n",
       "      <td>3387.000000</td>\n",
       "      <td>3387.000000</td>\n",
       "      <td>3387.000000</td>\n",
       "      <td>3387.000000</td>\n",
       "    </tr>\n",
       "    <tr>\n",
       "      <th>mean</th>\n",
       "      <td>10008719.171833</td>\n",
       "      <td>0.241744</td>\n",
       "      <td>0.485616</td>\n",
       "      <td>0.272640</td>\n",
       "    </tr>\n",
       "    <tr>\n",
       "      <th>std</th>\n",
       "      <td>4917.777891</td>\n",
       "      <td>0.239482</td>\n",
       "      <td>0.172555</td>\n",
       "      <td>0.115728</td>\n",
       "    </tr>\n",
       "    <tr>\n",
       "      <th>min</th>\n",
       "      <td>10000124.000000</td>\n",
       "      <td>0.051768</td>\n",
       "      <td>0.035553</td>\n",
       "      <td>0.033103</td>\n",
       "    </tr>\n",
       "    <tr>\n",
       "      <th>25%</th>\n",
       "      <td>10004495.500000</td>\n",
       "      <td>0.073472</td>\n",
       "      <td>0.453564</td>\n",
       "      <td>0.190443</td>\n",
       "    </tr>\n",
       "    <tr>\n",
       "      <th>50%</th>\n",
       "      <td>10008706.000000</td>\n",
       "      <td>0.164507</td>\n",
       "      <td>0.511989</td>\n",
       "      <td>0.276643</td>\n",
       "    </tr>\n",
       "    <tr>\n",
       "      <th>75%</th>\n",
       "      <td>10012953.000000</td>\n",
       "      <td>0.261080</td>\n",
       "      <td>0.574816</td>\n",
       "      <td>0.365001</td>\n",
       "    </tr>\n",
       "    <tr>\n",
       "      <th>max</th>\n",
       "      <td>10017256.000000</td>\n",
       "      <td>0.929506</td>\n",
       "      <td>0.792766</td>\n",
       "      <td>0.564209</td>\n",
       "    </tr>\n",
       "  </tbody>\n",
       "</table>\n",
       "</div>"
      ],
      "text/plain": [
       "                    ID       class0       class1       class2\n",
       "count      3387.000000  3387.000000  3387.000000  3387.000000\n",
       "mean   10008719.171833     0.241744     0.485616     0.272640\n",
       "std        4917.777891     0.239482     0.172555     0.115728\n",
       "min    10000124.000000     0.051768     0.035553     0.033103\n",
       "25%    10004495.500000     0.073472     0.453564     0.190443\n",
       "50%    10008706.000000     0.164507     0.511989     0.276643\n",
       "75%    10012953.000000     0.261080     0.574816     0.365001\n",
       "max    10017256.000000     0.929506     0.792766     0.564209"
      ]
     },
     "execution_count": 4,
     "metadata": {},
     "output_type": "execute_result"
    }
   ],
   "source": [
    "xgb_final.describe()"
   ]
  },
  {
   "cell_type": "code",
   "execution_count": 5,
   "metadata": {
    "collapsed": false
   },
   "outputs": [
    {
     "data": {
      "text/html": [
       "<div>\n",
       "<table border=\"1\" class=\"dataframe\">\n",
       "  <thead>\n",
       "    <tr style=\"text-align: right;\">\n",
       "      <th></th>\n",
       "      <th>ID</th>\n",
       "      <th>class0</th>\n",
       "      <th>class1</th>\n",
       "      <th>class2</th>\n",
       "    </tr>\n",
       "  </thead>\n",
       "  <tbody>\n",
       "    <tr>\n",
       "      <th>count</th>\n",
       "      <td>3387.000000</td>\n",
       "      <td>3387.000000</td>\n",
       "      <td>3387.000000</td>\n",
       "      <td>3387.000000</td>\n",
       "    </tr>\n",
       "    <tr>\n",
       "      <th>mean</th>\n",
       "      <td>10008719.171833</td>\n",
       "      <td>0.173688</td>\n",
       "      <td>0.537853</td>\n",
       "      <td>0.288459</td>\n",
       "    </tr>\n",
       "    <tr>\n",
       "      <th>std</th>\n",
       "      <td>4917.777891</td>\n",
       "      <td>0.203657</td>\n",
       "      <td>0.142221</td>\n",
       "      <td>0.104694</td>\n",
       "    </tr>\n",
       "    <tr>\n",
       "      <th>min</th>\n",
       "      <td>10000124.000000</td>\n",
       "      <td>0.024512</td>\n",
       "      <td>0.075101</td>\n",
       "      <td>0.033855</td>\n",
       "    </tr>\n",
       "    <tr>\n",
       "      <th>25%</th>\n",
       "      <td>10004495.500000</td>\n",
       "      <td>0.064798</td>\n",
       "      <td>0.522945</td>\n",
       "      <td>0.218096</td>\n",
       "    </tr>\n",
       "    <tr>\n",
       "      <th>50%</th>\n",
       "      <td>10008706.000000</td>\n",
       "      <td>0.096752</td>\n",
       "      <td>0.566339</td>\n",
       "      <td>0.285028</td>\n",
       "    </tr>\n",
       "    <tr>\n",
       "      <th>75%</th>\n",
       "      <td>10012953.000000</td>\n",
       "      <td>0.166271</td>\n",
       "      <td>0.615775</td>\n",
       "      <td>0.376652</td>\n",
       "    </tr>\n",
       "    <tr>\n",
       "      <th>max</th>\n",
       "      <td>10017256.000000</td>\n",
       "      <td>0.888359</td>\n",
       "      <td>0.747377</td>\n",
       "      <td>0.544400</td>\n",
       "    </tr>\n",
       "  </tbody>\n",
       "</table>\n",
       "</div>"
      ],
      "text/plain": [
       "                    ID       class0       class1       class2\n",
       "count      3387.000000  3387.000000  3387.000000  3387.000000\n",
       "mean   10008719.171833     0.173688     0.537853     0.288459\n",
       "std        4917.777891     0.203657     0.142221     0.104694\n",
       "min    10000124.000000     0.024512     0.075101     0.033855\n",
       "25%    10004495.500000     0.064798     0.522945     0.218096\n",
       "50%    10008706.000000     0.096752     0.566339     0.285028\n",
       "75%    10012953.000000     0.166271     0.615775     0.376652\n",
       "max    10017256.000000     0.888359     0.747377     0.544400"
      ]
     },
     "execution_count": 5,
     "metadata": {},
     "output_type": "execute_result"
    }
   ],
   "source": [
    "rf_final.describe()"
   ]
  },
  {
   "cell_type": "code",
   "execution_count": 6,
   "metadata": {
    "collapsed": false
   },
   "outputs": [],
   "source": [
    "ID = xgb_final['ID']\n",
    "xgb_final = xgb_final.drop('ID', 1)\n",
    "rf_final = rf_final.drop('ID', axis = 1)"
   ]
  },
  {
   "cell_type": "code",
   "execution_count": 7,
   "metadata": {
    "collapsed": true
   },
   "outputs": [],
   "source": [
    "final_class0 = (xgb_final['class0']+rf_final['class0'])/2\n",
    "final_class1 = (xgb_final['class1']+rf_final['class1'])/2\n",
    "final_class2 = (xgb_final['class2']+rf_final['class2'])/2"
   ]
  },
  {
   "cell_type": "code",
   "execution_count": 8,
   "metadata": {
    "collapsed": true
   },
   "outputs": [],
   "source": [
    "final_sub = pd.DataFrame({'class0':final_class0, 'class1':final_class1, 'class2':final_class2})"
   ]
  },
  {
   "cell_type": "code",
   "execution_count": 9,
   "metadata": {
    "collapsed": false
   },
   "outputs": [
    {
     "data": {
      "text/plain": [
       "class1    2907\n",
       "class0     384\n",
       "class2      96\n",
       "dtype: int64"
      ]
     },
     "execution_count": 9,
     "metadata": {},
     "output_type": "execute_result"
    }
   ],
   "source": [
    "predictions_final = final_sub.idxmax(axis=1)\n",
    "predictions_final.value_counts()"
   ]
  },
  {
   "cell_type": "code",
   "execution_count": 10,
   "metadata": {
    "collapsed": true
   },
   "outputs": [],
   "source": [
    "#for probabilities\n",
    "final_sub['Happy'] = predictions_final.astype(str).map({'class2':'Very Happy', 'class1': 'Pretty Happy', 'class0': 'Not Happy'})"
   ]
  },
  {
   "cell_type": "code",
   "execution_count": 11,
   "metadata": {
    "collapsed": true
   },
   "outputs": [],
   "source": [
    "submission = pd.DataFrame({ 'ID': ID, 'Happy':final_sub['Happy']})\n",
    "submission = submission[['ID', 'Happy']]\n",
    "submission.to_csv(\"data/ensemble.csv\", index = False)"
   ]
  },
  {
   "cell_type": "code",
   "execution_count": null,
   "metadata": {
    "collapsed": true
   },
   "outputs": [],
   "source": []
  }
 ],
 "metadata": {
  "kernelspec": {
   "display_name": "Python 2",
   "language": "python",
   "name": "python2"
  },
  "language_info": {
   "codemirror_mode": {
    "name": "ipython",
    "version": 2
   },
   "file_extension": ".py",
   "mimetype": "text/x-python",
   "name": "python",
   "nbconvert_exporter": "python",
   "pygments_lexer": "ipython2",
   "version": "2.7.10"
  }
 },
 "nbformat": 4,
 "nbformat_minor": 0
}
